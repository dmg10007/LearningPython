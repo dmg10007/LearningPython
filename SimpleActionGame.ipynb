import random as rand
num_lives = 3
num_health_kits = 3
health = 100

while num_lives != 0 and health != 0:
	damage = rand.randint(1,100)
  shield = int(input('Pick you shield number between 1-100: '))
  if shield > damage:
  	print("You take no damage")
  elif shield == damage:
    num_health_kits += 1
    print(f"Perfect Match, you gained a health kit. Current amount = {num_health_kits}")
  elif shield < damage:
    health = health - damage
    print(f'You took {damage} points of damage. Current Health is {health}. Current Lives = {num_lives}')
      if health <= 0 and num_health_kits > 0 and num_lives != 0:
      	num_health_kits -= 1
      	health = 100
        print('Health kit used, health restored to 100')
      elif health <= 0 and num_health_kits == 0 and num_lives != 0:
        health = 100
      	num_lives -= 1
        print(f'No more health kits, you have lost a life. Lives remaining = {num_lives2}')
      elif health < 10:
        print('Warning, dangerously low health!')
      elif health < 50:
        print('Warning, low health!')
      else:
        print('Health is good!')
print("No lives remaining, You're Dead")"
