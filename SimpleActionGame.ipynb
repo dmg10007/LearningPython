{
  "nbformat": 4,
  "nbformat_minor": 0,
  "metadata": {
    "colab": {
      "provenance": [],
      "authorship_tag": "ABX9TyPASUtP5G1K9rk0YfQQEQC8",
      "include_colab_link": true
    },
    "kernelspec": {
      "name": "python3",
      "display_name": "Python 3"
    },
    "language_info": {
      "name": "python"
    }
  },
  "cells": [
    {
      "cell_type": "markdown",
      "metadata": {
        "id": "view-in-github",
        "colab_type": "text"
      },
      "source": [
        "<a href=\"https://colab.research.google.com/github/dmg10007/LearningPython/blob/main/SimpleActionGame.ipynb\" target=\"_parent\"><img src=\"https://colab.research.google.com/assets/colab-badge.svg\" alt=\"Open In Colab\"/></a>"
      ]
    },
    {
      "cell_type": "code",
      "execution_count": 80,
      "metadata": {
        "colab": {
          "base_uri": "https://localhost:8080/"
        },
        "id": "hzgYZ6uAWs9t",
        "outputId": "cd936d18-5ec1-49b3-f4d0-443efc9d9f52"
      },
      "outputs": [
        {
          "output_type": "stream",
          "name": "stdout",
          "text": [
            "Pick you shield number between 1-100: 1\n",
            "You took 8 points of damage. Current Health is 92. Current Lives = 3\n",
            "Health is good!\n",
            "Pick you shield number between 1-100: 2\n",
            "You took 7 points of damage. Current Health is 85. Current Lives = 3\n",
            "Health is good!\n",
            "Pick you shield number between 1-100: 2\n",
            "You took 75 points of damage. Current Health is 10. Current Lives = 3\n",
            "Warning, low health!\n",
            "Pick you shield number between 1-100: 2\n",
            "You took 99 points of damage. Current Health is -89. Current Lives = 3\n",
            "Health kit used, health restored to 100\n",
            "Pick you shield number between 1-100: 2\n",
            "You take no damage\n",
            "Pick you shield number between 1-100: 2\n",
            "You took 56 points of damage. Current Health is 44. Current Lives = 3\n",
            "Warning, low health!\n",
            "Pick you shield number between 1-100: 2\n",
            "You took 10 points of damage. Current Health is 34. Current Lives = 3\n",
            "Warning, low health!\n",
            "Pick you shield number between 1-100: 2\n",
            "You took 58 points of damage. Current Health is -24. Current Lives = 3\n",
            "Health kit used, health restored to 100\n",
            "Pick you shield number between 1-100: 2\n",
            "You took 16 points of damage. Current Health is 84. Current Lives = 3\n",
            "Health is good!\n",
            "Pick you shield number between 1-100: 2\n",
            "You take no damage\n",
            "Pick you shield number between 1-100: 2\n",
            "You took 97 points of damage. Current Health is -13. Current Lives = 3\n",
            "Health kit used, health restored to 100\n",
            "Pick you shield number between 1-100: 2\n",
            "You took 26 points of damage. Current Health is 74. Current Lives = 3\n",
            "Health is good!\n",
            "Pick you shield number between 1-100: 2\n",
            "You took 4 points of damage. Current Health is 70. Current Lives = 3\n",
            "Health is good!\n",
            "Pick you shield number between 1-100: 2\n",
            "You took 28 points of damage. Current Health is 42. Current Lives = 3\n",
            "Warning, low health!\n",
            "Pick you shield number between 1-100: 2\n",
            "You took 26 points of damage. Current Health is 16. Current Lives = 3\n",
            "Warning, low health!\n",
            "Pick you shield number between 1-100: 2\n",
            "You took 78 points of damage. Current Health is -62. Current Lives = 3\n",
            "No more health kits, you have lost a life. Lives remaining = 2\n",
            "Pick you shield number between 1-100: 2\n",
            "You took 71 points of damage. Current Health is 29. Current Lives = 2\n",
            "Warning, low health!\n",
            "Pick you shield number between 1-100: 2\n",
            "You took 4 points of damage. Current Health is 25. Current Lives = 2\n",
            "Warning, low health!\n",
            "Pick you shield number between 1-100: 2\n",
            "You took 51 points of damage. Current Health is -26. Current Lives = 2\n",
            "No more health kits, you have lost a life. Lives remaining = 1\n",
            "Pick you shield number between 1-100: 2\n",
            "You took 26 points of damage. Current Health is 74. Current Lives = 1\n",
            "Health is good!\n",
            "Pick you shield number between 1-100: 2\n",
            "You took 84 points of damage. Current Health is -10. Current Lives = 1\n",
            "No more health kits, you have lost a life. Lives remaining = 0\n",
            "No lives remaining, You're Dead\n"
          ]
        }
      ],
      "source": [
        "import random as rand\n",
        "num_lives = 3\n",
        "num_health_kits = 3\n",
        "health = 100\n",
        "\n",
        "while num_lives != 0 and health != 0:\n",
        "  damage = rand.randint(1,100)\n",
        "  shield = int(input('Pick you shield number between 1-100: '))\n",
        "  if shield > damage:\n",
        "    print(\"You take no damage\")\n",
        "  elif shield == damage:\n",
        "    num_health_kits += 1\n",
        "    print(f\"Perfect Match, you gained a health kit. Current amount = {num_health_kits}\")\n",
        "  elif shield < damage:\n",
        "    health = health - damage\n",
        "    print(f'You took {damage} points of damage. Current Health is {health}. Current Lives = {num_lives}')\n",
        "    if health <= 0 and num_health_kits > 0 and num_lives != 0:\n",
        "      num_health_kits -= 1\n",
        "      health = 100\n",
        "      print('Health kit used, health restored to 100')\n",
        "    elif health <= 0 and num_health_kits == 0 and num_lives != 0:\n",
        "      health = 100\n",
        "      num_lives -= 1\n",
        "      print(f'No more health kits, you have lost a life. Lives remaining = {num_lives2\n",
        "                                                                            }')\n",
        "    elif health < 10:\n",
        "      print('Warning, dangerously low health!')\n",
        "    elif health < 50:\n",
        "      print('Warning, low health!')\n",
        "    else:\n",
        "      print('Health is good!')\n",
        "print(\"No lives remaining, You're Dead\")"
      ]
    }
  ]
}
